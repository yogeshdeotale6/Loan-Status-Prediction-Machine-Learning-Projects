{
 "cells": [
  {
   "cell_type": "code",
   "execution_count": 1,
   "id": "3414f194",
   "metadata": {},
   "outputs": [],
   "source": [
    "# importing Dependancies\n",
    "import pandas as pd \n",
    "import numpy as np\n",
    "import matplotlib.pyplot as plt\n",
    "import seaborn as sns\n",
    "from sklearn.preprocessing import LabelEncoder\n",
    "from sklearn.model_selection import train_test_split\n",
    "from sklearn.linear_model import LogisticRegression\n",
    "from sklearn.metrics import confusion_matrix\n",
    "from sklearn.metrics import classification_report\n",
    "from sklearn.metrics import roc_curve\n",
    "from sklearn.metrics import roc_auc_score\n",
    "import statsmodels.formula.api as smf"
   ]
  },
  {
   "cell_type": "code",
   "execution_count": 2,
   "id": "be93f7a9",
   "metadata": {},
   "outputs": [
    {
     "data": {
      "text/html": [
       "<div>\n",
       "<style scoped>\n",
       "    .dataframe tbody tr th:only-of-type {\n",
       "        vertical-align: middle;\n",
       "    }\n",
       "\n",
       "    .dataframe tbody tr th {\n",
       "        vertical-align: top;\n",
       "    }\n",
       "\n",
       "    .dataframe thead th {\n",
       "        text-align: right;\n",
       "    }\n",
       "</style>\n",
       "<table border=\"1\" class=\"dataframe\">\n",
       "  <thead>\n",
       "    <tr style=\"text-align: right;\">\n",
       "      <th></th>\n",
       "      <th>Age</th>\n",
       "      <th>Gender</th>\n",
       "      <th>Smoking</th>\n",
       "      <th>Hx Smoking</th>\n",
       "      <th>Hx Radiothreapy</th>\n",
       "      <th>Thyroid Function</th>\n",
       "      <th>Physical Examination</th>\n",
       "      <th>Adenopathy</th>\n",
       "      <th>Pathology</th>\n",
       "      <th>Focality</th>\n",
       "      <th>Risk</th>\n",
       "      <th>T</th>\n",
       "      <th>N</th>\n",
       "      <th>M</th>\n",
       "      <th>Stage</th>\n",
       "      <th>Response</th>\n",
       "      <th>Recurred</th>\n",
       "    </tr>\n",
       "  </thead>\n",
       "  <tbody>\n",
       "    <tr>\n",
       "      <th>0</th>\n",
       "      <td>27</td>\n",
       "      <td>F</td>\n",
       "      <td>No</td>\n",
       "      <td>No</td>\n",
       "      <td>No</td>\n",
       "      <td>Euthyroid</td>\n",
       "      <td>Single nodular goiter-left</td>\n",
       "      <td>No</td>\n",
       "      <td>Micropapillary</td>\n",
       "      <td>Uni-Focal</td>\n",
       "      <td>Low</td>\n",
       "      <td>T1a</td>\n",
       "      <td>N0</td>\n",
       "      <td>M0</td>\n",
       "      <td>I</td>\n",
       "      <td>Indeterminate</td>\n",
       "      <td>No</td>\n",
       "    </tr>\n",
       "    <tr>\n",
       "      <th>1</th>\n",
       "      <td>34</td>\n",
       "      <td>F</td>\n",
       "      <td>No</td>\n",
       "      <td>Yes</td>\n",
       "      <td>No</td>\n",
       "      <td>Euthyroid</td>\n",
       "      <td>Multinodular goiter</td>\n",
       "      <td>No</td>\n",
       "      <td>Micropapillary</td>\n",
       "      <td>Uni-Focal</td>\n",
       "      <td>Low</td>\n",
       "      <td>T1a</td>\n",
       "      <td>N0</td>\n",
       "      <td>M0</td>\n",
       "      <td>I</td>\n",
       "      <td>Excellent</td>\n",
       "      <td>No</td>\n",
       "    </tr>\n",
       "    <tr>\n",
       "      <th>2</th>\n",
       "      <td>30</td>\n",
       "      <td>F</td>\n",
       "      <td>No</td>\n",
       "      <td>No</td>\n",
       "      <td>No</td>\n",
       "      <td>Euthyroid</td>\n",
       "      <td>Single nodular goiter-right</td>\n",
       "      <td>No</td>\n",
       "      <td>Micropapillary</td>\n",
       "      <td>Uni-Focal</td>\n",
       "      <td>Low</td>\n",
       "      <td>T1a</td>\n",
       "      <td>N0</td>\n",
       "      <td>M0</td>\n",
       "      <td>I</td>\n",
       "      <td>Excellent</td>\n",
       "      <td>No</td>\n",
       "    </tr>\n",
       "    <tr>\n",
       "      <th>3</th>\n",
       "      <td>62</td>\n",
       "      <td>F</td>\n",
       "      <td>No</td>\n",
       "      <td>No</td>\n",
       "      <td>No</td>\n",
       "      <td>Euthyroid</td>\n",
       "      <td>Single nodular goiter-right</td>\n",
       "      <td>No</td>\n",
       "      <td>Micropapillary</td>\n",
       "      <td>Uni-Focal</td>\n",
       "      <td>Low</td>\n",
       "      <td>T1a</td>\n",
       "      <td>N0</td>\n",
       "      <td>M0</td>\n",
       "      <td>I</td>\n",
       "      <td>Excellent</td>\n",
       "      <td>No</td>\n",
       "    </tr>\n",
       "    <tr>\n",
       "      <th>4</th>\n",
       "      <td>62</td>\n",
       "      <td>F</td>\n",
       "      <td>No</td>\n",
       "      <td>No</td>\n",
       "      <td>No</td>\n",
       "      <td>Euthyroid</td>\n",
       "      <td>Multinodular goiter</td>\n",
       "      <td>No</td>\n",
       "      <td>Micropapillary</td>\n",
       "      <td>Multi-Focal</td>\n",
       "      <td>Low</td>\n",
       "      <td>T1a</td>\n",
       "      <td>N0</td>\n",
       "      <td>M0</td>\n",
       "      <td>I</td>\n",
       "      <td>Excellent</td>\n",
       "      <td>No</td>\n",
       "    </tr>\n",
       "    <tr>\n",
       "      <th>...</th>\n",
       "      <td>...</td>\n",
       "      <td>...</td>\n",
       "      <td>...</td>\n",
       "      <td>...</td>\n",
       "      <td>...</td>\n",
       "      <td>...</td>\n",
       "      <td>...</td>\n",
       "      <td>...</td>\n",
       "      <td>...</td>\n",
       "      <td>...</td>\n",
       "      <td>...</td>\n",
       "      <td>...</td>\n",
       "      <td>...</td>\n",
       "      <td>...</td>\n",
       "      <td>...</td>\n",
       "      <td>...</td>\n",
       "      <td>...</td>\n",
       "    </tr>\n",
       "    <tr>\n",
       "      <th>378</th>\n",
       "      <td>72</td>\n",
       "      <td>M</td>\n",
       "      <td>Yes</td>\n",
       "      <td>Yes</td>\n",
       "      <td>Yes</td>\n",
       "      <td>Euthyroid</td>\n",
       "      <td>Single nodular goiter-right</td>\n",
       "      <td>Right</td>\n",
       "      <td>Papillary</td>\n",
       "      <td>Uni-Focal</td>\n",
       "      <td>High</td>\n",
       "      <td>T4b</td>\n",
       "      <td>N1b</td>\n",
       "      <td>M1</td>\n",
       "      <td>IVB</td>\n",
       "      <td>Biochemical Incomplete</td>\n",
       "      <td>Yes</td>\n",
       "    </tr>\n",
       "    <tr>\n",
       "      <th>379</th>\n",
       "      <td>81</td>\n",
       "      <td>M</td>\n",
       "      <td>Yes</td>\n",
       "      <td>No</td>\n",
       "      <td>Yes</td>\n",
       "      <td>Euthyroid</td>\n",
       "      <td>Multinodular goiter</td>\n",
       "      <td>Extensive</td>\n",
       "      <td>Papillary</td>\n",
       "      <td>Multi-Focal</td>\n",
       "      <td>High</td>\n",
       "      <td>T4b</td>\n",
       "      <td>N1b</td>\n",
       "      <td>M1</td>\n",
       "      <td>IVB</td>\n",
       "      <td>Structural Incomplete</td>\n",
       "      <td>Yes</td>\n",
       "    </tr>\n",
       "    <tr>\n",
       "      <th>380</th>\n",
       "      <td>72</td>\n",
       "      <td>M</td>\n",
       "      <td>Yes</td>\n",
       "      <td>Yes</td>\n",
       "      <td>No</td>\n",
       "      <td>Euthyroid</td>\n",
       "      <td>Multinodular goiter</td>\n",
       "      <td>Bilateral</td>\n",
       "      <td>Papillary</td>\n",
       "      <td>Multi-Focal</td>\n",
       "      <td>High</td>\n",
       "      <td>T4b</td>\n",
       "      <td>N1b</td>\n",
       "      <td>M1</td>\n",
       "      <td>IVB</td>\n",
       "      <td>Structural Incomplete</td>\n",
       "      <td>Yes</td>\n",
       "    </tr>\n",
       "    <tr>\n",
       "      <th>381</th>\n",
       "      <td>61</td>\n",
       "      <td>M</td>\n",
       "      <td>Yes</td>\n",
       "      <td>Yes</td>\n",
       "      <td>Yes</td>\n",
       "      <td>Clinical Hyperthyroidism</td>\n",
       "      <td>Multinodular goiter</td>\n",
       "      <td>Extensive</td>\n",
       "      <td>Hurthel cell</td>\n",
       "      <td>Multi-Focal</td>\n",
       "      <td>High</td>\n",
       "      <td>T4b</td>\n",
       "      <td>N1b</td>\n",
       "      <td>M0</td>\n",
       "      <td>IVA</td>\n",
       "      <td>Structural Incomplete</td>\n",
       "      <td>Yes</td>\n",
       "    </tr>\n",
       "    <tr>\n",
       "      <th>382</th>\n",
       "      <td>67</td>\n",
       "      <td>M</td>\n",
       "      <td>Yes</td>\n",
       "      <td>No</td>\n",
       "      <td>No</td>\n",
       "      <td>Euthyroid</td>\n",
       "      <td>Multinodular goiter</td>\n",
       "      <td>Bilateral</td>\n",
       "      <td>Papillary</td>\n",
       "      <td>Multi-Focal</td>\n",
       "      <td>High</td>\n",
       "      <td>T4b</td>\n",
       "      <td>N1b</td>\n",
       "      <td>M0</td>\n",
       "      <td>IVA</td>\n",
       "      <td>Structural Incomplete</td>\n",
       "      <td>Yes</td>\n",
       "    </tr>\n",
       "  </tbody>\n",
       "</table>\n",
       "<p>383 rows × 17 columns</p>\n",
       "</div>"
      ],
      "text/plain": [
       "     Age Gender Smoking Hx Smoking Hx Radiothreapy          Thyroid Function  \\\n",
       "0     27      F      No         No              No                 Euthyroid   \n",
       "1     34      F      No        Yes              No                 Euthyroid   \n",
       "2     30      F      No         No              No                 Euthyroid   \n",
       "3     62      F      No         No              No                 Euthyroid   \n",
       "4     62      F      No         No              No                 Euthyroid   \n",
       "..   ...    ...     ...        ...             ...                       ...   \n",
       "378   72      M     Yes        Yes             Yes                 Euthyroid   \n",
       "379   81      M     Yes         No             Yes                 Euthyroid   \n",
       "380   72      M     Yes        Yes              No                 Euthyroid   \n",
       "381   61      M     Yes        Yes             Yes  Clinical Hyperthyroidism   \n",
       "382   67      M     Yes         No              No                 Euthyroid   \n",
       "\n",
       "            Physical Examination Adenopathy       Pathology     Focality  \\\n",
       "0     Single nodular goiter-left         No  Micropapillary    Uni-Focal   \n",
       "1            Multinodular goiter         No  Micropapillary    Uni-Focal   \n",
       "2    Single nodular goiter-right         No  Micropapillary    Uni-Focal   \n",
       "3    Single nodular goiter-right         No  Micropapillary    Uni-Focal   \n",
       "4            Multinodular goiter         No  Micropapillary  Multi-Focal   \n",
       "..                           ...        ...             ...          ...   \n",
       "378  Single nodular goiter-right      Right       Papillary    Uni-Focal   \n",
       "379          Multinodular goiter  Extensive       Papillary  Multi-Focal   \n",
       "380          Multinodular goiter  Bilateral       Papillary  Multi-Focal   \n",
       "381          Multinodular goiter  Extensive    Hurthel cell  Multi-Focal   \n",
       "382          Multinodular goiter  Bilateral       Papillary  Multi-Focal   \n",
       "\n",
       "     Risk    T    N   M Stage                Response Recurred  \n",
       "0     Low  T1a   N0  M0     I           Indeterminate       No  \n",
       "1     Low  T1a   N0  M0     I               Excellent       No  \n",
       "2     Low  T1a   N0  M0     I               Excellent       No  \n",
       "3     Low  T1a   N0  M0     I               Excellent       No  \n",
       "4     Low  T1a   N0  M0     I               Excellent       No  \n",
       "..    ...  ...  ...  ..   ...                     ...      ...  \n",
       "378  High  T4b  N1b  M1   IVB  Biochemical Incomplete      Yes  \n",
       "379  High  T4b  N1b  M1   IVB   Structural Incomplete      Yes  \n",
       "380  High  T4b  N1b  M1   IVB   Structural Incomplete      Yes  \n",
       "381  High  T4b  N1b  M0   IVA   Structural Incomplete      Yes  \n",
       "382  High  T4b  N1b  M0   IVA   Structural Incomplete      Yes  \n",
       "\n",
       "[383 rows x 17 columns]"
      ]
     },
     "execution_count": 2,
     "metadata": {},
     "output_type": "execute_result"
    }
   ],
   "source": [
    "df=pd.read_csv(\"Thyroid_Diff.csv\")\n",
    "df"
   ]
  },
  {
   "cell_type": "code",
   "execution_count": 3,
   "id": "633e3990",
   "metadata": {},
   "outputs": [
    {
     "name": "stdout",
     "output_type": "stream",
     "text": [
      "<class 'pandas.core.frame.DataFrame'>\n",
      "RangeIndex: 383 entries, 0 to 382\n",
      "Data columns (total 17 columns):\n",
      " #   Column                Non-Null Count  Dtype \n",
      "---  ------                --------------  ----- \n",
      " 0   Age                   383 non-null    int64 \n",
      " 1   Gender                383 non-null    object\n",
      " 2   Smoking               383 non-null    object\n",
      " 3   Hx Smoking            383 non-null    object\n",
      " 4   Hx Radiothreapy       383 non-null    object\n",
      " 5   Thyroid Function      383 non-null    object\n",
      " 6   Physical Examination  383 non-null    object\n",
      " 7   Adenopathy            383 non-null    object\n",
      " 8   Pathology             383 non-null    object\n",
      " 9   Focality              383 non-null    object\n",
      " 10  Risk                  383 non-null    object\n",
      " 11  T                     383 non-null    object\n",
      " 12  N                     383 non-null    object\n",
      " 13  M                     383 non-null    object\n",
      " 14  Stage                 383 non-null    object\n",
      " 15  Response              383 non-null    object\n",
      " 16  Recurred              383 non-null    object\n",
      "dtypes: int64(1), object(16)\n",
      "memory usage: 51.0+ KB\n"
     ]
    }
   ],
   "source": [
    "df.info()"
   ]
  },
  {
   "cell_type": "code",
   "execution_count": 4,
   "id": "16685ed4",
   "metadata": {},
   "outputs": [
    {
     "data": {
      "text/plain": [
       "Age                     0\n",
       "Gender                  0\n",
       "Smoking                 0\n",
       "Hx Smoking              0\n",
       "Hx Radiothreapy         0\n",
       "Thyroid Function        0\n",
       "Physical Examination    0\n",
       "Adenopathy              0\n",
       "Pathology               0\n",
       "Focality                0\n",
       "Risk                    0\n",
       "T                       0\n",
       "N                       0\n",
       "M                       0\n",
       "Stage                   0\n",
       "Response                0\n",
       "Recurred                0\n",
       "dtype: int64"
      ]
     },
     "execution_count": 4,
     "metadata": {},
     "output_type": "execute_result"
    }
   ],
   "source": [
    "df.isna().sum()"
   ]
  },
  {
   "cell_type": "markdown",
   "id": "8192e3ca",
   "metadata": {},
   "source": [
    "## Cheking unique values in data sets"
   ]
  },
  {
   "cell_type": "code",
   "execution_count": 5,
   "id": "a2d49337",
   "metadata": {},
   "outputs": [
    {
     "data": {
      "text/plain": [
       "array(['F', 'M'], dtype=object)"
      ]
     },
     "execution_count": 5,
     "metadata": {},
     "output_type": "execute_result"
    }
   ],
   "source": [
    "df[\"Gender\"].unique()"
   ]
  },
  {
   "cell_type": "code",
   "execution_count": 6,
   "id": "877e8002",
   "metadata": {},
   "outputs": [
    {
     "data": {
      "text/plain": [
       "array(['No', 'Yes'], dtype=object)"
      ]
     },
     "execution_count": 6,
     "metadata": {},
     "output_type": "execute_result"
    }
   ],
   "source": [
    "df[\"Hx Smoking\"].unique()"
   ]
  },
  {
   "cell_type": "code",
   "execution_count": 7,
   "id": "0f3a760c",
   "metadata": {},
   "outputs": [
    {
     "data": {
      "text/plain": [
       "array(['No', 'Yes'], dtype=object)"
      ]
     },
     "execution_count": 7,
     "metadata": {},
     "output_type": "execute_result"
    }
   ],
   "source": [
    "df[\"Smoking\"].unique()"
   ]
  },
  {
   "cell_type": "code",
   "execution_count": 8,
   "id": "af68e903",
   "metadata": {},
   "outputs": [
    {
     "data": {
      "text/plain": [
       "array(['No', 'Yes'], dtype=object)"
      ]
     },
     "execution_count": 8,
     "metadata": {},
     "output_type": "execute_result"
    }
   ],
   "source": [
    "df[\"Hx Radiothreapy\"].unique()"
   ]
  },
  {
   "cell_type": "code",
   "execution_count": 9,
   "id": "93877e41",
   "metadata": {},
   "outputs": [
    {
     "data": {
      "text/plain": [
       "array(['Euthyroid', 'Clinical Hyperthyroidism', 'Clinical Hypothyroidism',\n",
       "       'Subclinical Hyperthyroidism', 'Subclinical Hypothyroidism'],\n",
       "      dtype=object)"
      ]
     },
     "execution_count": 9,
     "metadata": {},
     "output_type": "execute_result"
    }
   ],
   "source": [
    "df[\"Thyroid Function\"].unique()"
   ]
  },
  {
   "cell_type": "code",
   "execution_count": 10,
   "id": "6f8b80bb",
   "metadata": {},
   "outputs": [
    {
     "data": {
      "text/plain": [
       "array(['Single nodular goiter-left', 'Multinodular goiter',\n",
       "       'Single nodular goiter-right', 'Normal', 'Diffuse goiter'],\n",
       "      dtype=object)"
      ]
     },
     "execution_count": 10,
     "metadata": {},
     "output_type": "execute_result"
    }
   ],
   "source": [
    "df[\"Physical Examination\"].unique()"
   ]
  },
  {
   "cell_type": "code",
   "execution_count": 11,
   "id": "79ebefb7",
   "metadata": {},
   "outputs": [
    {
     "data": {
      "text/plain": [
       "array(['No', 'Right', 'Extensive', 'Left', 'Bilateral', 'Posterior'],\n",
       "      dtype=object)"
      ]
     },
     "execution_count": 11,
     "metadata": {},
     "output_type": "execute_result"
    }
   ],
   "source": [
    "df[\"Adenopathy\"].unique()"
   ]
  },
  {
   "cell_type": "code",
   "execution_count": 12,
   "id": "41a1e0b4",
   "metadata": {},
   "outputs": [
    {
     "data": {
      "text/plain": [
       "array(['Micropapillary', 'Papillary', 'Follicular', 'Hurthel cell'],\n",
       "      dtype=object)"
      ]
     },
     "execution_count": 12,
     "metadata": {},
     "output_type": "execute_result"
    }
   ],
   "source": [
    "df[\"Pathology\"].unique()"
   ]
  },
  {
   "cell_type": "code",
   "execution_count": 13,
   "id": "9cec1b6d",
   "metadata": {},
   "outputs": [
    {
     "data": {
      "text/plain": [
       "array(['Uni-Focal', 'Multi-Focal'], dtype=object)"
      ]
     },
     "execution_count": 13,
     "metadata": {},
     "output_type": "execute_result"
    }
   ],
   "source": [
    "df[\"Focality\"].unique()"
   ]
  },
  {
   "cell_type": "code",
   "execution_count": 14,
   "id": "7acda485",
   "metadata": {},
   "outputs": [
    {
     "data": {
      "text/plain": [
       "array(['Low', 'Intermediate', 'High'], dtype=object)"
      ]
     },
     "execution_count": 14,
     "metadata": {},
     "output_type": "execute_result"
    }
   ],
   "source": [
    "df[\"Risk\"].unique()"
   ]
  },
  {
   "cell_type": "code",
   "execution_count": 15,
   "id": "59578c6a",
   "metadata": {},
   "outputs": [
    {
     "data": {
      "text/plain": [
       "array(['T1a', 'T1b', 'T2', 'T3a', 'T3b', 'T4a', 'T4b'], dtype=object)"
      ]
     },
     "execution_count": 15,
     "metadata": {},
     "output_type": "execute_result"
    }
   ],
   "source": [
    "df[\"T\"].unique()"
   ]
  },
  {
   "cell_type": "code",
   "execution_count": 16,
   "id": "34162602",
   "metadata": {},
   "outputs": [
    {
     "data": {
      "text/plain": [
       "array(['N0', 'N1b', 'N1a'], dtype=object)"
      ]
     },
     "execution_count": 16,
     "metadata": {},
     "output_type": "execute_result"
    }
   ],
   "source": [
    "df[\"N\"].unique()"
   ]
  },
  {
   "cell_type": "code",
   "execution_count": 17,
   "id": "e2f03d2f",
   "metadata": {},
   "outputs": [
    {
     "data": {
      "text/plain": [
       "array(['M0', 'M1'], dtype=object)"
      ]
     },
     "execution_count": 17,
     "metadata": {},
     "output_type": "execute_result"
    }
   ],
   "source": [
    "df[\"M\"].unique()"
   ]
  },
  {
   "cell_type": "code",
   "execution_count": 18,
   "id": "20f1eb92",
   "metadata": {},
   "outputs": [
    {
     "data": {
      "text/plain": [
       "array(['I', 'II', 'IVB', 'III', 'IVA'], dtype=object)"
      ]
     },
     "execution_count": 18,
     "metadata": {},
     "output_type": "execute_result"
    }
   ],
   "source": [
    "df[\"Stage\"].unique()"
   ]
  },
  {
   "cell_type": "code",
   "execution_count": 19,
   "id": "033c4f41",
   "metadata": {},
   "outputs": [
    {
     "data": {
      "text/plain": [
       "array(['Indeterminate', 'Excellent', 'Structural Incomplete',\n",
       "       'Biochemical Incomplete'], dtype=object)"
      ]
     },
     "execution_count": 19,
     "metadata": {},
     "output_type": "execute_result"
    }
   ],
   "source": [
    "df[\"Response\"].unique()"
   ]
  },
  {
   "cell_type": "code",
   "execution_count": 20,
   "id": "15304292",
   "metadata": {},
   "outputs": [
    {
     "data": {
      "text/plain": [
       "array(['No', 'Yes'], dtype=object)"
      ]
     },
     "execution_count": 20,
     "metadata": {},
     "output_type": "execute_result"
    }
   ],
   "source": [
    "df[\"Recurred\"].unique()"
   ]
  },
  {
   "cell_type": "markdown",
   "id": "d23f7c9c",
   "metadata": {},
   "source": [
    "## Graphical Visualization "
   ]
  },
  {
   "cell_type": "code",
   "execution_count": 21,
   "id": "92dc3c66",
   "metadata": {},
   "outputs": [
    {
     "data": {
      "text/plain": [
       "<Axes: >"
      ]
     },
     "execution_count": 21,
     "metadata": {},
     "output_type": "execute_result"
    },
    {
     "data": {
      "image/png": "[encoded data removed]",
      "text/plain": [
       "<Figure size 640x480 with 1 Axes>"
      ]
     },
     "metadata": {},
     "output_type": "display_data"
    }
   ],
   "source": [
    "df[\"Thyroid Function\"].value_counts().plot(kind=\"barh\", stacked=True)"
   ]
  },
  {
   "cell_type": "code",
   "execution_count": 22,
   "id": "a11a0e13",
   "metadata": {},
   "outputs": [
    {
     "data": {
      "text/plain": [
       "<Axes: >"
      ]
     },
     "execution_count": 22,
     "metadata": {},
     "output_type": "execute_result"
    },
    {
     "data": {
      "image/png": "[encoded data removed]",
      "text/plain": [
       "<Figure size 640x480 with 1 Axes>"
      ]
     },
     "metadata": {},
     "output_type": "display_data"
    }
   ],
   "source": [
    "df[\"Physical Examination\"].value_counts().plot(kind=\"barh\", stacked=True)"
   ]
  },
  {
   "cell_type": "code",
   "execution_count": 23,
   "id": "4f9594e9",
   "metadata": {},
   "outputs": [
    {
     "data": {
      "text/plain": [
       "<Axes: >"
      ]
     },
     "execution_count": 23,
     "metadata": {},
     "output_type": "execute_result"
    },
    {
     "data": {
      "image/png": "[encoded data removed]",
      "text/plain": [
       "<Figure size 640x480 with 1 Axes>"
      ]
     },
     "metadata": {},
     "output_type": "display_data"
    }
   ],
   "source": [
    "df[\"T\"].value_counts().plot(kind=\"barh\", stacked=True)"
   ]
  },
  {
   "cell_type": "code",
   "execution_count": 24,
   "id": "7f5a6c84",
   "metadata": {},
   "outputs": [
    {
     "data": {
      "text/plain": [
       "<Axes: >"
      ]
     },
     "execution_count": 24,
     "metadata": {},
     "output_type": "execute_result"
    },
    {
     "data": {
      "image/png": "[encoded data removed]",
      "text/plain": [
       "<Figure size 640x480 with 1 Axes>"
      ]
     },
     "metadata": {},
     "output_type": "display_data"
    }
   ],
   "source": [
    "df[\"N\"].value_counts().plot(kind=\"barh\", stacked=True)"
   ]
  },
  {
   "cell_type": "code",
   "execution_count": 25,
   "id": "3bdbe048",
   "metadata": {},
   "outputs": [
    {
     "data": {
      "text/plain": [
       "<Axes: >"
      ]
     },
     "execution_count": 25,
     "metadata": {},
     "output_type": "execute_result"
    },
    {
     "data": {
      "image/png": "[encoded data removed]",
      "text/plain": [
       "<Figure size 640x480 with 1 Axes>"
      ]
     },
     "metadata": {},
     "output_type": "display_data"
    }
   ],
   "source": [
    "df[\"Adenopathy\"].value_counts().plot(kind=\"barh\", stacked=True)"
   ]
  },
  {
   "cell_type": "code",
   "execution_count": 26,
   "id": "50373ad7",
   "metadata": {},
   "outputs": [
    {
     "data": {
      "text/plain": [
       "<Axes: >"
      ]
     },
     "execution_count": 26,
     "metadata": {},
     "output_type": "execute_result"
    },
    {
     "data": {
      "image/png": "[encoded data removed]",
      "text/plain": [
       "<Figure size 640x480 with 1 Axes>"
      ]
     },
     "metadata": {},
     "output_type": "display_data"
    }
   ],
   "source": [
    "df[\"Pathology\"].value_counts().plot(kind=\"barh\", stacked=True)"
   ]
  },
  {
   "cell_type": "code",
   "execution_count": 27,
   "id": "81ccdf81",
   "metadata": {},
   "outputs": [
    {
     "data": {
      "text/plain": [
       "<Axes: >"
      ]
     },
     "execution_count": 27,
     "metadata": {},
     "output_type": "execute_result"
    },
    {
     "data": {
      "image/png": "[encoded data removed]",
      "text/plain": [
       "<Figure size 640x480 with 1 Axes>"
      ]
     },
     "metadata": {},
     "output_type": "display_data"
    }
   ],
   "source": [
    "df[\"Stage\"].value_counts().plot(kind=\"barh\", stacked=True)"
   ]
  },
  {
   "cell_type": "code",
   "execution_count": 28,
   "id": "587e2c5e",
   "metadata": {},
   "outputs": [
    {
     "data": {
      "text/plain": [
       "<Axes: >"
      ]
     },
     "execution_count": 28,
     "metadata": {},
     "output_type": "execute_result"
    },
    {
     "data": {
      "image/png": "[encoded data removed]",
      "text/plain": [
       "<Figure size 640x480 with 1 Axes>"
      ]
     },
     "metadata": {},
     "output_type": "display_data"
    }
   ],
   "source": [
    "df[\"Response\"].value_counts().plot(kind=\"barh\", stacked=True)"
   ]
  },
  {
   "cell_type": "code",
   "execution_count": 29,
   "id": "ac25fce5",
   "metadata": {},
   "outputs": [
    {
     "data": {
      "text/plain": [
       "<Axes: xlabel='Thyroid Function', ylabel='Age'>"
      ]
     },
     "execution_count": 29,
     "metadata": {},
     "output_type": "execute_result"
    },
    {
     "data": {
      "image/png": "[encoded data removed]",
      "text/plain": [
       "<Figure size 1500x1000 with 1 Axes>"
      ]
     },
     "metadata": {},
     "output_type": "display_data"
    }
   ],
   "source": [
    "fig, ax=plt.subplots(figsize=(15,10))\n",
    "sns.barplot(x=\"Thyroid Function\",y=\"Age\", data=df, hue=\"Gender\", ax=ax,  errorbar=(\"ci\",30))"
   ]
  },
  {
   "cell_type": "code",
   "execution_count": 30,
   "id": "6989907b",
   "metadata": {},
   "outputs": [
    {
     "data": {
      "text/plain": [
       "<Axes: xlabel='Stage', ylabel='Age'>"
      ]
     },
     "execution_count": 30,
     "metadata": {},
     "output_type": "execute_result"
    },
    {
     "data": {
      "image/png": "[encoded data removed]",
      "text/plain": [
       "<Figure size 1500x1000 with 1 Axes>"
      ]
     },
     "metadata": {},
     "output_type": "display_data"
    }
   ],
   "source": [
    "fig, ax=plt.subplots(figsize=(15,10))\n",
    "sns.barplot(x=\"Stage\",y=\"Age\", data=df, hue=\"Gender\", ax=ax,  errorbar=(\"ci\",30))"
   ]
  },
  {
   "cell_type": "code",
   "execution_count": 31,
   "id": "06f291b7",
   "metadata": {},
   "outputs": [
    {
     "data": {
      "text/plain": [
       "<Axes: xlabel='Pathology', ylabel='Age'>"
      ]
     },
     "execution_count": 31,
     "metadata": {},
     "output_type": "execute_result"
    },
    {
     "data": {
      "image/png": "[encoded data removed]",
      "text/plain": [
       "<Figure size 1500x1000 with 1 Axes>"
      ]
     },
     "metadata": {},
     "output_type": "display_data"
    }
   ],
   "source": [
    "fig, ax=plt.subplots(figsize=(15,10))\n",
    "sns.barplot(x=\"Pathology\",y=\"Age\", data=df, hue=\"Gender\", ax=ax,  errorbar=(\"ci\",30))"
   ]
  },
  {
   "cell_type": "code",
   "execution_count": 32,
   "id": "7b47f4c2",
   "metadata": {},
   "outputs": [
    {
     "data": {
      "text/plain": [
       "<Axes: xlabel='T', ylabel='Age'>"
      ]
     },
     "execution_count": 32,
     "metadata": {},
     "output_type": "execute_result"
    },
    {
     "data": {
      "image/png": "[encoded data removed]",
      "text/plain": [
       "<Figure size 1500x1000 with 1 Axes>"
      ]
     },
     "metadata": {},
     "output_type": "display_data"
    }
   ],
   "source": [
    "fig, ax=plt.subplots(figsize=(15,10))\n",
    "sns.barplot(x=\"T\",y=\"Age\", data=df, hue=\"Gender\", ax=ax,  errorbar=(\"ci\",30))"
   ]
  },
  {
   "cell_type": "markdown",
   "id": "f70d0ed8",
   "metadata": {},
   "source": [
    "## Model Training "
   ]
  },
  {
   "cell_type": "code",
   "execution_count": 33,
   "id": "66f458db",
   "metadata": {},
   "outputs": [],
   "source": [
    "# applying Label Encoding\n",
    "categorical_cols=[\"Gender\",\"Smoking\", \"Hx Smoking\",\"Hx Radiothreapy\", \"Focality\",\n",
    "                \"Risk\", \"M\",\"Recurred\" ]\n",
    "LE=LabelEncoder()\n",
    "df[categorical_cols]=df[categorical_cols].apply(lambda col:LE.fit_transform(col))"
   ]
  },
  {
   "cell_type": "code",
   "execution_count": 34,
   "id": "b10cbaf9",
   "metadata": {},
   "outputs": [
    {
     "data": {
      "text/html": [
       "<div>\n",
       "<style scoped>\n",
       "    .dataframe tbody tr th:only-of-type {\n",
       "        vertical-align: middle;\n",
       "    }\n",
       "\n",
       "    .dataframe tbody tr th {\n",
       "        vertical-align: top;\n",
       "    }\n",
       "\n",
       "    .dataframe thead th {\n",
       "        text-align: right;\n",
       "    }\n",
       "</style>\n",
       "<table border=\"1\" class=\"dataframe\">\n",
       "  <thead>\n",
       "    <tr style=\"text-align: right;\">\n",
       "      <th></th>\n",
       "      <th>Age</th>\n",
       "      <th>Gender</th>\n",
       "      <th>Smoking</th>\n",
       "      <th>Hx Smoking</th>\n",
       "      <th>Hx Radiothreapy</th>\n",
       "      <th>Thyroid Function</th>\n",
       "      <th>Physical Examination</th>\n",
       "      <th>Adenopathy</th>\n",
       "      <th>Pathology</th>\n",
       "      <th>Focality</th>\n",
       "      <th>Risk</th>\n",
       "      <th>T</th>\n",
       "      <th>N</th>\n",
       "      <th>M</th>\n",
       "      <th>Stage</th>\n",
       "      <th>Response</th>\n",
       "      <th>Recurred</th>\n",
       "    </tr>\n",
       "  </thead>\n",
       "  <tbody>\n",
       "    <tr>\n",
       "      <th>0</th>\n",
       "      <td>27</td>\n",
       "      <td>0</td>\n",
       "      <td>0</td>\n",
       "      <td>0</td>\n",
       "      <td>0</td>\n",
       "      <td>Euthyroid</td>\n",
       "      <td>Single nodular goiter-left</td>\n",
       "      <td>No</td>\n",
       "      <td>Micropapillary</td>\n",
       "      <td>1</td>\n",
       "      <td>2</td>\n",
       "      <td>T1a</td>\n",
       "      <td>N0</td>\n",
       "      <td>0</td>\n",
       "      <td>I</td>\n",
       "      <td>Indeterminate</td>\n",
       "      <td>0</td>\n",
       "    </tr>\n",
       "    <tr>\n",
       "      <th>1</th>\n",
       "      <td>34</td>\n",
       "      <td>0</td>\n",
       "      <td>0</td>\n",
       "      <td>1</td>\n",
       "      <td>0</td>\n",
       "      <td>Euthyroid</td>\n",
       "      <td>Multinodular goiter</td>\n",
       "      <td>No</td>\n",
       "      <td>Micropapillary</td>\n",
       "      <td>1</td>\n",
       "      <td>2</td>\n",
       "      <td>T1a</td>\n",
       "      <td>N0</td>\n",
       "      <td>0</td>\n",
       "      <td>I</td>\n",
       "      <td>Excellent</td>\n",
       "      <td>0</td>\n",
       "    </tr>\n",
       "    <tr>\n",
       "      <th>2</th>\n",
       "      <td>30</td>\n",
       "      <td>0</td>\n",
       "      <td>0</td>\n",
       "      <td>0</td>\n",
       "      <td>0</td>\n",
       "      <td>Euthyroid</td>\n",
       "      <td>Single nodular goiter-right</td>\n",
       "      <td>No</td>\n",
       "      <td>Micropapillary</td>\n",
       "      <td>1</td>\n",
       "      <td>2</td>\n",
       "      <td>T1a</td>\n",
       "      <td>N0</td>\n",
       "      <td>0</td>\n",
       "      <td>I</td>\n",
       "      <td>Excellent</td>\n",
       "      <td>0</td>\n",
       "    </tr>\n",
       "    <tr>\n",
       "      <th>3</th>\n",
       "      <td>62</td>\n",
       "      <td>0</td>\n",
       "      <td>0</td>\n",
       "      <td>0</td>\n",
       "      <td>0</td>\n",
       "      <td>Euthyroid</td>\n",
       "      <td>Single nodular goiter-right</td>\n",
       "      <td>No</td>\n",
       "      <td>Micropapillary</td>\n",
       "      <td>1</td>\n",
       "      <td>2</td>\n",
       "      <td>T1a</td>\n",
       "      <td>N0</td>\n",
       "      <td>0</td>\n",
       "      <td>I</td>\n",
       "      <td>Excellent</td>\n",
       "      <td>0</td>\n",
       "    </tr>\n",
       "    <tr>\n",
       "      <th>4</th>\n",
       "      <td>62</td>\n",
       "      <td>0</td>\n",
       "      <td>0</td>\n",
       "      <td>0</td>\n",
       "      <td>0</td>\n",
       "      <td>Euthyroid</td>\n",
       "      <td>Multinodular goiter</td>\n",
       "      <td>No</td>\n",
       "      <td>Micropapillary</td>\n",
       "      <td>0</td>\n",
       "      <td>2</td>\n",
       "      <td>T1a</td>\n",
       "      <td>N0</td>\n",
       "      <td>0</td>\n",
       "      <td>I</td>\n",
       "      <td>Excellent</td>\n",
       "      <td>0</td>\n",
       "    </tr>\n",
       "    <tr>\n",
       "      <th>...</th>\n",
       "      <td>...</td>\n",
       "      <td>...</td>\n",
       "      <td>...</td>\n",
       "      <td>...</td>\n",
       "      <td>...</td>\n",
       "      <td>...</td>\n",
       "      <td>...</td>\n",
       "      <td>...</td>\n",
       "      <td>...</td>\n",
       "      <td>...</td>\n",
       "      <td>...</td>\n",
       "      <td>...</td>\n",
       "      <td>...</td>\n",
       "      <td>...</td>\n",
       "      <td>...</td>\n",
       "      <td>...</td>\n",
       "      <td>...</td>\n",
       "    </tr>\n",
       "    <tr>\n",
       "      <th>378</th>\n",
       "      <td>72</td>\n",
       "      <td>1</td>\n",
       "      <td>1</td>\n",
       "      <td>1</td>\n",
       "      <td>1</td>\n",
       "      <td>Euthyroid</td>\n",
       "      <td>Single nodular goiter-right</td>\n",
       "      <td>Right</td>\n",
       "      <td>Papillary</td>\n",
       "      <td>1</td>\n",
       "      <td>0</td>\n",
       "      <td>T4b</td>\n",
       "      <td>N1b</td>\n",
       "      <td>1</td>\n",
       "      <td>IVB</td>\n",
       "      <td>Biochemical Incomplete</td>\n",
       "      <td>1</td>\n",
       "    </tr>\n",
       "    <tr>\n",
       "      <th>379</th>\n",
       "      <td>81</td>\n",
       "      <td>1</td>\n",
       "      <td>1</td>\n",
       "      <td>0</td>\n",
       "      <td>1</td>\n",
       "      <td>Euthyroid</td>\n",
       "      <td>Multinodular goiter</td>\n",
       "      <td>Extensive</td>\n",
       "      <td>Papillary</td>\n",
       "      <td>0</td>\n",
       "      <td>0</td>\n",
       "      <td>T4b</td>\n",
       "      <td>N1b</td>\n",
       "      <td>1</td>\n",
       "      <td>IVB</td>\n",
       "      <td>Structural Incomplete</td>\n",
       "      <td>1</td>\n",
       "    </tr>\n",
       "    <tr>\n",
       "      <th>380</th>\n",
       "      <td>72</td>\n",
       "      <td>1</td>\n",
       "      <td>1</td>\n",
       "      <td>1</td>\n",
       "      <td>0</td>\n",
       "      <td>Euthyroid</td>\n",
       "      <td>Multinodular goiter</td>\n",
       "      <td>Bilateral</td>\n",
       "      <td>Papillary</td>\n",
       "      <td>0</td>\n",
       "      <td>0</td>\n",
       "      <td>T4b</td>\n",
       "      <td>N1b</td>\n",
       "      <td>1</td>\n",
       "      <td>IVB</td>\n",
       "      <td>Structural Incomplete</td>\n",
       "      <td>1</td>\n",
       "    </tr>\n",
       "    <tr>\n",
       "      <th>381</th>\n",
       "      <td>61</td>\n",
       "      <td>1</td>\n",
       "      <td>1</td>\n",
       "      <td>1</td>\n",
       "      <td>1</td>\n",
       "      <td>Clinical Hyperthyroidism</td>\n",
       "      <td>Multinodular goiter</td>\n",
       "      <td>Extensive</td>\n",
       "      <td>Hurthel cell</td>\n",
       "      <td>0</td>\n",
       "      <td>0</td>\n",
       "      <td>T4b</td>\n",
       "      <td>N1b</td>\n",
       "      <td>0</td>\n",
       "      <td>IVA</td>\n",
       "      <td>Structural Incomplete</td>\n",
       "      <td>1</td>\n",
       "    </tr>\n",
       "    <tr>\n",
       "      <th>382</th>\n",
       "      <td>67</td>\n",
       "      <td>1</td>\n",
       "      <td>1</td>\n",
       "      <td>0</td>\n",
       "      <td>0</td>\n",
       "      <td>Euthyroid</td>\n",
       "      <td>Multinodular goiter</td>\n",
       "      <td>Bilateral</td>\n",
       "      <td>Papillary</td>\n",
       "      <td>0</td>\n",
       "      <td>0</td>\n",
       "      <td>T4b</td>\n",
       "      <td>N1b</td>\n",
       "      <td>0</td>\n",
       "      <td>IVA</td>\n",
       "      <td>Structural Incomplete</td>\n",
       "      <td>1</td>\n",
       "    </tr>\n",
       "  </tbody>\n",
       "</table>\n",
       "<p>383 rows × 17 columns</p>\n",
       "</div>"
      ],
      "text/plain": [
       "     Age  Gender  Smoking  Hx Smoking  Hx Radiothreapy  \\\n",
       "0     27       0        0           0                0   \n",
       "1     34       0        0           1                0   \n",
       "2     30       0        0           0                0   \n",
       "3     62       0        0           0                0   \n",
       "4     62       0        0           0                0   \n",
       "..   ...     ...      ...         ...              ...   \n",
       "378   72       1        1           1                1   \n",
       "379   81       1        1           0                1   \n",
       "380   72       1        1           1                0   \n",
       "381   61       1        1           1                1   \n",
       "382   67       1        1           0                0   \n",
       "\n",
       "             Thyroid Function         Physical Examination Adenopathy  \\\n",
       "0                   Euthyroid   Single nodular goiter-left         No   \n",
       "1                   Euthyroid          Multinodular goiter         No   \n",
       "2                   Euthyroid  Single nodular goiter-right         No   \n",
       "3                   Euthyroid  Single nodular goiter-right         No   \n",
       "4                   Euthyroid          Multinodular goiter         No   \n",
       "..                        ...                          ...        ...   \n",
       "378                 Euthyroid  Single nodular goiter-right      Right   \n",
       "379                 Euthyroid          Multinodular goiter  Extensive   \n",
       "380                 Euthyroid          Multinodular goiter  Bilateral   \n",
       "381  Clinical Hyperthyroidism          Multinodular goiter  Extensive   \n",
       "382                 Euthyroid          Multinodular goiter  Bilateral   \n",
       "\n",
       "          Pathology  Focality  Risk    T    N  M Stage  \\\n",
       "0    Micropapillary         1     2  T1a   N0  0     I   \n",
       "1    Micropapillary         1     2  T1a   N0  0     I   \n",
       "2    Micropapillary         1     2  T1a   N0  0     I   \n",
       "3    Micropapillary         1     2  T1a   N0  0     I   \n",
       "4    Micropapillary         0     2  T1a   N0  0     I   \n",
       "..              ...       ...   ...  ...  ... ..   ...   \n",
       "378       Papillary         1     0  T4b  N1b  1   IVB   \n",
       "379       Papillary         0     0  T4b  N1b  1   IVB   \n",
       "380       Papillary         0     0  T4b  N1b  1   IVB   \n",
       "381    Hurthel cell         0     0  T4b  N1b  0   IVA   \n",
       "382       Papillary         0     0  T4b  N1b  0   IVA   \n",
       "\n",
       "                   Response  Recurred  \n",
       "0             Indeterminate         0  \n",
       "1                 Excellent         0  \n",
       "2                 Excellent         0  \n",
       "3                 Excellent         0  \n",
       "4                 Excellent         0  \n",
       "..                      ...       ...  \n",
       "378  Biochemical Incomplete         1  \n",
       "379   Structural Incomplete         1  \n",
       "380   Structural Incomplete         1  \n",
       "381   Structural Incomplete         1  \n",
       "382   Structural Incomplete         1  \n",
       "\n",
       "[383 rows x 17 columns]"
      ]
     },
     "execution_count": 34,
     "metadata": {},
     "output_type": "execute_result"
    }
   ],
   "source": [
    "df"
   ]
  },
  {
   "cell_type": "code",
   "execution_count": 35,
   "id": "c5b55adb",
   "metadata": {},
   "outputs": [],
   "source": [
    "# selecting target and feature variables\n",
    "x=df.drop(\"Recurred\", axis=1)\n",
    "y=df[\"Recurred\"]"
   ]
  },
  {
   "cell_type": "code",
   "execution_count": 36,
   "id": "4f0bdeb6",
   "metadata": {},
   "outputs": [
    {
     "data": {
      "text/html": [
       "<div>\n",
       "<style scoped>\n",
       "    .dataframe tbody tr th:only-of-type {\n",
       "        vertical-align: middle;\n",
       "    }\n",
       "\n",
       "    .dataframe tbody tr th {\n",
       "        vertical-align: top;\n",
       "    }\n",
       "\n",
       "    .dataframe thead th {\n",
       "        text-align: right;\n",
       "    }\n",
       "</style>\n",
       "<table border=\"1\" class=\"dataframe\">\n",
       "  <thead>\n",
       "    <tr style=\"text-align: right;\">\n",
       "      <th></th>\n",
       "      <th>Age</th>\n",
       "      <th>Gender</th>\n",
       "      <th>Smoking</th>\n",
       "      <th>Hx Smoking</th>\n",
       "      <th>Hx Radiothreapy</th>\n",
       "      <th>Focality</th>\n",
       "      <th>Risk</th>\n",
       "      <th>M</th>\n",
       "      <th>Thyroid Function_Clinical Hyperthyroidism</th>\n",
       "      <th>Thyroid Function_Clinical Hypothyroidism</th>\n",
       "      <th>...</th>\n",
       "      <th>N_N1b</th>\n",
       "      <th>Response_Biochemical Incomplete</th>\n",
       "      <th>Response_Excellent</th>\n",
       "      <th>Response_Indeterminate</th>\n",
       "      <th>Response_Structural Incomplete</th>\n",
       "      <th>Stage_I</th>\n",
       "      <th>Stage_II</th>\n",
       "      <th>Stage_III</th>\n",
       "      <th>Stage_IVA</th>\n",
       "      <th>Stage_IVB</th>\n",
       "    </tr>\n",
       "  </thead>\n",
       "  <tbody>\n",
       "    <tr>\n",
       "      <th>0</th>\n",
       "      <td>27</td>\n",
       "      <td>0</td>\n",
       "      <td>0</td>\n",
       "      <td>0</td>\n",
       "      <td>0</td>\n",
       "      <td>1</td>\n",
       "      <td>2</td>\n",
       "      <td>0</td>\n",
       "      <td>0</td>\n",
       "      <td>0</td>\n",
       "      <td>...</td>\n",
       "      <td>0</td>\n",
       "      <td>0</td>\n",
       "      <td>0</td>\n",
       "      <td>1</td>\n",
       "      <td>0</td>\n",
       "      <td>1</td>\n",
       "      <td>0</td>\n",
       "      <td>0</td>\n",
       "      <td>0</td>\n",
       "      <td>0</td>\n",
       "    </tr>\n",
       "    <tr>\n",
       "      <th>1</th>\n",
       "      <td>34</td>\n",
       "      <td>0</td>\n",
       "      <td>0</td>\n",
       "      <td>1</td>\n",
       "      <td>0</td>\n",
       "      <td>1</td>\n",
       "      <td>2</td>\n",
       "      <td>0</td>\n",
       "      <td>0</td>\n",
       "      <td>0</td>\n",
       "      <td>...</td>\n",
       "      <td>0</td>\n",
       "      <td>0</td>\n",
       "      <td>1</td>\n",
       "      <td>0</td>\n",
       "      <td>0</td>\n",
       "      <td>1</td>\n",
       "      <td>0</td>\n",
       "      <td>0</td>\n",
       "      <td>0</td>\n",
       "      <td>0</td>\n",
       "    </tr>\n",
       "    <tr>\n",
       "      <th>2</th>\n",
       "      <td>30</td>\n",
       "      <td>0</td>\n",
       "      <td>0</td>\n",
       "      <td>0</td>\n",
       "      <td>0</td>\n",
       "      <td>1</td>\n",
       "      <td>2</td>\n",
       "      <td>0</td>\n",
       "      <td>0</td>\n",
       "      <td>0</td>\n",
       "      <td>...</td>\n",
       "      <td>0</td>\n",
       "      <td>0</td>\n",
       "      <td>1</td>\n",
       "      <td>0</td>\n",
       "      <td>0</td>\n",
       "      <td>1</td>\n",
       "      <td>0</td>\n",
       "      <td>0</td>\n",
       "      <td>0</td>\n",
       "      <td>0</td>\n",
       "    </tr>\n",
       "    <tr>\n",
       "      <th>3</th>\n",
       "      <td>62</td>\n",
       "      <td>0</td>\n",
       "      <td>0</td>\n",
       "      <td>0</td>\n",
       "      <td>0</td>\n",
       "      <td>1</td>\n",
       "      <td>2</td>\n",
       "      <td>0</td>\n",
       "      <td>0</td>\n",
       "      <td>0</td>\n",
       "      <td>...</td>\n",
       "      <td>0</td>\n",
       "      <td>0</td>\n",
       "      <td>1</td>\n",
       "      <td>0</td>\n",
       "      <td>0</td>\n",
       "      <td>1</td>\n",
       "      <td>0</td>\n",
       "      <td>0</td>\n",
       "      <td>0</td>\n",
       "      <td>0</td>\n",
       "    </tr>\n",
       "    <tr>\n",
       "      <th>4</th>\n",
       "      <td>62</td>\n",
       "      <td>0</td>\n",
       "      <td>0</td>\n",
       "      <td>0</td>\n",
       "      <td>0</td>\n",
       "      <td>0</td>\n",
       "      <td>2</td>\n",
       "      <td>0</td>\n",
       "      <td>0</td>\n",
       "      <td>0</td>\n",
       "      <td>...</td>\n",
       "      <td>0</td>\n",
       "      <td>0</td>\n",
       "      <td>1</td>\n",
       "      <td>0</td>\n",
       "      <td>0</td>\n",
       "      <td>1</td>\n",
       "      <td>0</td>\n",
       "      <td>0</td>\n",
       "      <td>0</td>\n",
       "      <td>0</td>\n",
       "    </tr>\n",
       "    <tr>\n",
       "      <th>...</th>\n",
       "      <td>...</td>\n",
       "      <td>...</td>\n",
       "      <td>...</td>\n",
       "      <td>...</td>\n",
       "      <td>...</td>\n",
       "      <td>...</td>\n",
       "      <td>...</td>\n",
       "      <td>...</td>\n",
       "      <td>...</td>\n",
       "      <td>...</td>\n",
       "      <td>...</td>\n",
       "      <td>...</td>\n",
       "      <td>...</td>\n",
       "      <td>...</td>\n",
       "      <td>...</td>\n",
       "      <td>...</td>\n",
       "      <td>...</td>\n",
       "      <td>...</td>\n",
       "      <td>...</td>\n",
       "      <td>...</td>\n",
       "      <td>...</td>\n",
       "    </tr>\n",
       "    <tr>\n",
       "      <th>378</th>\n",
       "      <td>72</td>\n",
       "      <td>1</td>\n",
       "      <td>1</td>\n",
       "      <td>1</td>\n",
       "      <td>1</td>\n",
       "      <td>1</td>\n",
       "      <td>0</td>\n",
       "      <td>1</td>\n",
       "      <td>0</td>\n",
       "      <td>0</td>\n",
       "      <td>...</td>\n",
       "      <td>1</td>\n",
       "      <td>1</td>\n",
       "      <td>0</td>\n",
       "      <td>0</td>\n",
       "      <td>0</td>\n",
       "      <td>0</td>\n",
       "      <td>0</td>\n",
       "      <td>0</td>\n",
       "      <td>0</td>\n",
       "      <td>1</td>\n",
       "    </tr>\n",
       "    <tr>\n",
       "      <th>379</th>\n",
       "      <td>81</td>\n",
       "      <td>1</td>\n",
       "      <td>1</td>\n",
       "      <td>0</td>\n",
       "      <td>1</td>\n",
       "      <td>0</td>\n",
       "      <td>0</td>\n",
       "      <td>1</td>\n",
       "      <td>0</td>\n",
       "      <td>0</td>\n",
       "      <td>...</td>\n",
       "      <td>1</td>\n",
       "      <td>0</td>\n",
       "      <td>0</td>\n",
       "      <td>0</td>\n",
       "      <td>1</td>\n",
       "      <td>0</td>\n",
       "      <td>0</td>\n",
       "      <td>0</td>\n",
       "      <td>0</td>\n",
       "      <td>1</td>\n",
       "    </tr>\n",
       "    <tr>\n",
       "      <th>380</th>\n",
       "      <td>72</td>\n",
       "      <td>1</td>\n",
       "      <td>1</td>\n",
       "      <td>1</td>\n",
       "      <td>0</td>\n",
       "      <td>0</td>\n",
       "      <td>0</td>\n",
       "      <td>1</td>\n",
       "      <td>0</td>\n",
       "      <td>0</td>\n",
       "      <td>...</td>\n",
       "      <td>1</td>\n",
       "      <td>0</td>\n",
       "      <td>0</td>\n",
       "      <td>0</td>\n",
       "      <td>1</td>\n",
       "      <td>0</td>\n",
       "      <td>0</td>\n",
       "      <td>0</td>\n",
       "      <td>0</td>\n",
       "      <td>1</td>\n",
       "    </tr>\n",
       "    <tr>\n",
       "      <th>381</th>\n",
       "      <td>61</td>\n",
       "      <td>1</td>\n",
       "      <td>1</td>\n",
       "      <td>1</td>\n",
       "      <td>1</td>\n",
       "      <td>0</td>\n",
       "      <td>0</td>\n",
       "      <td>0</td>\n",
       "      <td>1</td>\n",
       "      <td>0</td>\n",
       "      <td>...</td>\n",
       "      <td>1</td>\n",
       "      <td>0</td>\n",
       "      <td>0</td>\n",
       "      <td>0</td>\n",
       "      <td>1</td>\n",
       "      <td>0</td>\n",
       "      <td>0</td>\n",
       "      <td>0</td>\n",
       "      <td>1</td>\n",
       "      <td>0</td>\n",
       "    </tr>\n",
       "    <tr>\n",
       "      <th>382</th>\n",
       "      <td>67</td>\n",
       "      <td>1</td>\n",
       "      <td>1</td>\n",
       "      <td>0</td>\n",
       "      <td>0</td>\n",
       "      <td>0</td>\n",
       "      <td>0</td>\n",
       "      <td>0</td>\n",
       "      <td>0</td>\n",
       "      <td>0</td>\n",
       "      <td>...</td>\n",
       "      <td>1</td>\n",
       "      <td>0</td>\n",
       "      <td>0</td>\n",
       "      <td>0</td>\n",
       "      <td>1</td>\n",
       "      <td>0</td>\n",
       "      <td>0</td>\n",
       "      <td>0</td>\n",
       "      <td>1</td>\n",
       "      <td>0</td>\n",
       "    </tr>\n",
       "  </tbody>\n",
       "</table>\n",
       "<p>383 rows × 47 columns</p>\n",
       "</div>"
      ],
      "text/plain": [
       "     Age  Gender  Smoking  Hx Smoking  Hx Radiothreapy  Focality  Risk  M  \\\n",
       "0     27       0        0           0                0         1     2  0   \n",
       "1     34       0        0           1                0         1     2  0   \n",
       "2     30       0        0           0                0         1     2  0   \n",
       "3     62       0        0           0                0         1     2  0   \n",
       "4     62       0        0           0                0         0     2  0   \n",
       "..   ...     ...      ...         ...              ...       ...   ... ..   \n",
       "378   72       1        1           1                1         1     0  1   \n",
       "379   81       1        1           0                1         0     0  1   \n",
       "380   72       1        1           1                0         0     0  1   \n",
       "381   61       1        1           1                1         0     0  0   \n",
       "382   67       1        1           0                0         0     0  0   \n",
       "\n",
       "     Thyroid Function_Clinical Hyperthyroidism  \\\n",
       "0                                            0   \n",
       "1                                            0   \n",
       "2                                            0   \n",
       "3                                            0   \n",
       "4                                            0   \n",
       "..                                         ...   \n",
       "378                                          0   \n",
       "379                                          0   \n",
       "380                                          0   \n",
       "381                                          1   \n",
       "382                                          0   \n",
       "\n",
       "     Thyroid Function_Clinical Hypothyroidism  ...  N_N1b  \\\n",
       "0                                           0  ...      0   \n",
       "1                                           0  ...      0   \n",
       "2                                           0  ...      0   \n",
       "3                                           0  ...      0   \n",
       "4                                           0  ...      0   \n",
       "..                                        ...  ...    ...   \n",
       "378                                         0  ...      1   \n",
       "379                                         0  ...      1   \n",
       "380                                         0  ...      1   \n",
       "381                                         0  ...      1   \n",
       "382                                         0  ...      1   \n",
       "\n",
       "     Response_Biochemical Incomplete  Response_Excellent  \\\n",
       "0                                  0                   0   \n",
       "1                                  0                   1   \n",
       "2                                  0                   1   \n",
       "3                                  0                   1   \n",
       "4                                  0                   1   \n",
       "..                               ...                 ...   \n",
       "378                                1                   0   \n",
       "379                                0                   0   \n",
       "380                                0                   0   \n",
       "381                                0                   0   \n",
       "382                                0                   0   \n",
       "\n",
       "     Response_Indeterminate  Response_Structural Incomplete  Stage_I  \\\n",
       "0                         1                               0        1   \n",
       "1                         0                               0        1   \n",
       "2                         0                               0        1   \n",
       "3                         0                               0        1   \n",
       "4                         0                               0        1   \n",
       "..                      ...                             ...      ...   \n",
       "378                       0                               0        0   \n",
       "379                       0                               1        0   \n",
       "380                       0                               1        0   \n",
       "381                       0                               1        0   \n",
       "382                       0                               1        0   \n",
       "\n",
       "     Stage_II  Stage_III  Stage_IVA  Stage_IVB  \n",
       "0           0          0          0          0  \n",
       "1           0          0          0          0  \n",
       "2           0          0          0          0  \n",
       "3           0          0          0          0  \n",
       "4           0          0          0          0  \n",
       "..        ...        ...        ...        ...  \n",
       "378         0          0          0          1  \n",
       "379         0          0          0          1  \n",
       "380         0          0          0          1  \n",
       "381         0          0          1          0  \n",
       "382         0          0          1          0  \n",
       "\n",
       "[383 rows x 47 columns]"
      ]
     },
     "execution_count": 36,
     "metadata": {},
     "output_type": "execute_result"
    }
   ],
   "source": [
    "x_encoded=pd.get_dummies(x, columns=[\"Thyroid Function\",\"Physical Examination\",\"Adenopathy\",\"Pathology\",\"T\",\"N\",\"Response\", \"Stage\"])\n",
    "x_encoded"
   ]
  },
  {
   "cell_type": "code",
   "execution_count": 37,
   "id": "153af78c",
   "metadata": {},
   "outputs": [],
   "source": [
    "# spliting Data\n",
    "x_train, x_test, y_train, y_test=train_test_split(x_encoded, y, stratify=y, random_state=42, test_size=0.3) "
   ]
  },
  {
   "cell_type": "code",
   "execution_count": 38,
   "id": "a9b86aaf",
   "metadata": {},
   "outputs": [
    {
     "data": {
      "text/html": [
       "<style>#sk-container-id-1 {color: black;background-color: white;}#sk-container-id-1 pre{padding: 0;}#sk-container-id-1 div.sk-toggleable {background-color: white;}#sk-container-id-1 label.sk-toggleable__label {cursor: pointer;display: block;width: 100%;margin-bottom: 0;padding: 0.3em;box-sizing: border-box;text-align: center;}#sk-container-id-1 label.sk-toggleable__label-arrow:before {content: \"▸\";float: left;margin-right: 0.25em;color: #696969;}#sk-container-id-1 label.sk-toggleable__label-arrow:hover:before {color: black;}#sk-container-id-1 div.sk-estimator:hover label.sk-toggleable__label-arrow:before {color: black;}#sk-container-id-1 div.sk-toggleable__content {max-height: 0;max-width: 0;overflow: hidden;text-align: left;background-color: #f0f8ff;}#sk-container-id-1 div.sk-toggleable__content pre {margin: 0.2em;color: black;border-radius: 0.25em;background-color: #f0f8ff;}#sk-container-id-1 input.sk-toggleable__control:checked~div.sk-toggleable__content {max-height: 200px;max-width: 100%;overflow: auto;}#sk-container-id-1 input.sk-toggleable__control:checked~label.sk-toggleable__label-arrow:before {content: \"▾\";}#sk-container-id-1 div.sk-estimator input.sk-toggleable__control:checked~label.sk-toggleable__label {background-color: #d4ebff;}#sk-container-id-1 div.sk-label input.sk-toggleable__control:checked~label.sk-toggleable__label {background-color: #d4ebff;}#sk-container-id-1 input.sk-hidden--visually {border: 0;clip: rect(1px 1px 1px 1px);clip: rect(1px, 1px, 1px, 1px);height: 1px;margin: -1px;overflow: hidden;padding: 0;position: absolute;width: 1px;}#sk-container-id-1 div.sk-estimator {font-family: monospace;background-color: #f0f8ff;border: 1px dotted black;border-radius: 0.25em;box-sizing: border-box;margin-bottom: 0.5em;}#sk-container-id-1 div.sk-estimator:hover {background-color: #d4ebff;}#sk-container-id-1 div.sk-parallel-item::after {content: \"\";width: 100%;border-bottom: 1px solid gray;flex-grow: 1;}#sk-container-id-1 div.sk-label:hover label.sk-toggleable__label {background-color: #d4ebff;}#sk-container-id-1 div.sk-serial::before {content: \"\";position: absolute;border-left: 1px solid gray;box-sizing: border-box;top: 0;bottom: 0;left: 50%;z-index: 0;}#sk-container-id-1 div.sk-serial {display: flex;flex-direction: column;align-items: center;background-color: white;padding-right: 0.2em;padding-left: 0.2em;position: relative;}#sk-container-id-1 div.sk-item {position: relative;z-index: 1;}#sk-container-id-1 div.sk-parallel {display: flex;align-items: stretch;justify-content: center;background-color: white;position: relative;}#sk-container-id-1 div.sk-item::before, #sk-container-id-1 div.sk-parallel-item::before {content: \"\";position: absolute;border-left: 1px solid gray;box-sizing: border-box;top: 0;bottom: 0;left: 50%;z-index: -1;}#sk-container-id-1 div.sk-parallel-item {display: flex;flex-direction: column;z-index: 1;position: relative;background-color: white;}#sk-container-id-1 div.sk-parallel-item:first-child::after {align-self: flex-end;width: 50%;}#sk-container-id-1 div.sk-parallel-item:last-child::after {align-self: flex-start;width: 50%;}#sk-container-id-1 div.sk-parallel-item:only-child::after {width: 0;}#sk-container-id-1 div.sk-dashed-wrapped {border: 1px dashed gray;margin: 0 0.4em 0.5em 0.4em;box-sizing: border-box;padding-bottom: 0.4em;background-color: white;}#sk-container-id-1 div.sk-label label {font-family: monospace;font-weight: bold;display: inline-block;line-height: 1.2em;}#sk-container-id-1 div.sk-label-container {text-align: center;}#sk-container-id-1 div.sk-container {/* jupyter's `normalize.less` sets `[hidden] { display: none; }` but bootstrap.min.css set `[hidden] { display: none !important; }` so we also need the `!important` here to be able to override the default hidden behavior on the sphinx rendered scikit-learn.org. See: https://github.com/scikit-learn/scikit-learn/issues/21755 */display: inline-block !important;position: relative;}#sk-container-id-1 div.sk-text-repr-fallback {display: none;}</style><div id=\"sk-container-id-1\" class=\"sk-top-container\"><div class=\"sk-text-repr-fallback\"><pre>LogisticRegression(max_iter=500)</pre><b>In a Jupyter environment, please rerun this cell to show the HTML representation or trust the notebook. <br />On GitHub, the HTML representation is unable to render, please try loading this page with nbviewer.org.</b></div><div class=\"sk-container\" hidden><div class=\"sk-item\"><div class=\"sk-estimator sk-toggleable\"><input class=\"sk-toggleable__control sk-hidden--visually\" id=\"sk-estimator-id-1\" type=\"checkbox\" checked><label for=\"sk-estimator-id-1\" class=\"sk-toggleable__label sk-toggleable__label-arrow\">LogisticRegression</label><div class=\"sk-toggleable__content\"><pre>LogisticRegression(max_iter=500)</pre></div></div></div></div></div>"
      ],
      "text/plain": [
       "LogisticRegression(max_iter=500)"
      ]
     },
     "execution_count": 38,
     "metadata": {},
     "output_type": "execute_result"
    }
   ],
   "source": [
    "# Importing LOgistic Regression\n",
    "LR=LogisticRegression(max_iter=500)\n",
    "LR.fit(x_train, y_train)"
   ]
  },
  {
   "cell_type": "code",
   "execution_count": 39,
   "id": "33a1c9cd",
   "metadata": {},
   "outputs": [],
   "source": [
    "y_pred_test=LR.predict(x_test)\n",
    "y_pred_train=LR.predict(x_train)"
   ]
  },
  {
   "cell_type": "code",
   "execution_count": 40,
   "id": "ad8bb92c",
   "metadata": {},
   "outputs": [
    {
     "name": "stdout",
     "output_type": "stream",
     "text": [
      "[[83  0]\n",
      " [ 2 30]]\n",
      "              precision    recall  f1-score   support\n",
      "\n",
      "           0       0.98      1.00      0.99        83\n",
      "           1       1.00      0.94      0.97        32\n",
      "\n",
      "    accuracy                           0.98       115\n",
      "   macro avg       0.99      0.97      0.98       115\n",
      "weighted avg       0.98      0.98      0.98       115\n",
      "\n"
     ]
    }
   ],
   "source": [
    "# Classifcation Report and Confussion Matrix\n",
    "print(confusion_matrix(y_test, y_pred_test))\n",
    "print(classification_report(y_test, y_pred_test))"
   ]
  },
  {
   "cell_type": "code",
   "execution_count": 41,
   "id": "d32e6a2e",
   "metadata": {},
   "outputs": [
    {
     "name": "stdout",
     "output_type": "stream",
     "text": [
      "[[191   1]\n",
      " [  5  71]]\n",
      "              precision    recall  f1-score   support\n",
      "\n",
      "           0       0.97      0.99      0.98       192\n",
      "           1       0.99      0.93      0.96        76\n",
      "\n",
      "    accuracy                           0.98       268\n",
      "   macro avg       0.98      0.96      0.97       268\n",
      "weighted avg       0.98      0.98      0.98       268\n",
      "\n"
     ]
    }
   ],
   "source": [
    "print(confusion_matrix(y_train, y_pred_train))\n",
    "print(classification_report(y_train, y_pred_train))"
   ]
  },
  {
   "cell_type": "code",
   "execution_count": 42,
   "id": "2e928fe0",
   "metadata": {},
   "outputs": [],
   "source": [
    "# checking which parameter is most significant\n",
    "a=LR.coef_[0]"
   ]
  },
  {
   "cell_type": "code",
   "execution_count": 47,
   "id": "e275c63b",
   "metadata": {},
   "outputs": [
    {
     "data": {
      "text/html": [
       "<div>\n",
       "<style scoped>\n",
       "    .dataframe tbody tr th:only-of-type {\n",
       "        vertical-align: middle;\n",
       "    }\n",
       "\n",
       "    .dataframe tbody tr th {\n",
       "        vertical-align: top;\n",
       "    }\n",
       "\n",
       "    .dataframe thead th {\n",
       "        text-align: right;\n",
       "    }\n",
       "</style>\n",
       "<table border=\"1\" class=\"dataframe\">\n",
       "  <thead>\n",
       "    <tr style=\"text-align: right;\">\n",
       "      <th></th>\n",
       "      <th>0</th>\n",
       "    </tr>\n",
       "  </thead>\n",
       "  <tbody>\n",
       "    <tr>\n",
       "      <th>Age</th>\n",
       "      <td>0.023890</td>\n",
       "    </tr>\n",
       "    <tr>\n",
       "      <th>Gender</th>\n",
       "      <td>0.490160</td>\n",
       "    </tr>\n",
       "    <tr>\n",
       "      <th>Smoking</th>\n",
       "      <td>0.195140</td>\n",
       "    </tr>\n",
       "    <tr>\n",
       "      <th>Hx Smoking</th>\n",
       "      <td>-0.103139</td>\n",
       "    </tr>\n",
       "    <tr>\n",
       "      <th>Hx Radiothreapy</th>\n",
       "      <td>0.021889</td>\n",
       "    </tr>\n",
       "    <tr>\n",
       "      <th>Focality</th>\n",
       "      <td>0.438802</td>\n",
       "    </tr>\n",
       "    <tr>\n",
       "      <th>Risk</th>\n",
       "      <td>-1.144221</td>\n",
       "    </tr>\n",
       "    <tr>\n",
       "      <th>M</th>\n",
       "      <td>0.088582</td>\n",
       "    </tr>\n",
       "    <tr>\n",
       "      <th>Thyroid Function_Clinical Hyperthyroidism</th>\n",
       "      <td>-0.798493</td>\n",
       "    </tr>\n",
       "    <tr>\n",
       "      <th>Thyroid Function_Clinical Hypothyroidism</th>\n",
       "      <td>0.607082</td>\n",
       "    </tr>\n",
       "    <tr>\n",
       "      <th>Thyroid Function_Euthyroid</th>\n",
       "      <td>0.563872</td>\n",
       "    </tr>\n",
       "    <tr>\n",
       "      <th>Thyroid Function_Subclinical Hyperthyroidism</th>\n",
       "      <td>-0.020116</td>\n",
       "    </tr>\n",
       "    <tr>\n",
       "      <th>Thyroid Function_Subclinical Hypothyroidism</th>\n",
       "      <td>-0.352262</td>\n",
       "    </tr>\n",
       "    <tr>\n",
       "      <th>Physical Examination_Diffuse goiter</th>\n",
       "      <td>-0.020627</td>\n",
       "    </tr>\n",
       "    <tr>\n",
       "      <th>Physical Examination_Multinodular goiter</th>\n",
       "      <td>0.059493</td>\n",
       "    </tr>\n",
       "    <tr>\n",
       "      <th>Physical Examination_Normal</th>\n",
       "      <td>-0.087957</td>\n",
       "    </tr>\n",
       "    <tr>\n",
       "      <th>Physical Examination_Single nodular goiter-left</th>\n",
       "      <td>0.013021</td>\n",
       "    </tr>\n",
       "    <tr>\n",
       "      <th>Physical Examination_Single nodular goiter-right</th>\n",
       "      <td>0.036153</td>\n",
       "    </tr>\n",
       "    <tr>\n",
       "      <th>Adenopathy_Bilateral</th>\n",
       "      <td>-0.230796</td>\n",
       "    </tr>\n",
       "    <tr>\n",
       "      <th>Adenopathy_Extensive</th>\n",
       "      <td>0.131088</td>\n",
       "    </tr>\n",
       "    <tr>\n",
       "      <th>Adenopathy_Left</th>\n",
       "      <td>-0.085184</td>\n",
       "    </tr>\n",
       "    <tr>\n",
       "      <th>Adenopathy_No</th>\n",
       "      <td>0.032540</td>\n",
       "    </tr>\n",
       "    <tr>\n",
       "      <th>Adenopathy_Posterior</th>\n",
       "      <td>0.002020</td>\n",
       "    </tr>\n",
       "    <tr>\n",
       "      <th>Adenopathy_Right</th>\n",
       "      <td>0.150413</td>\n",
       "    </tr>\n",
       "    <tr>\n",
       "      <th>Pathology_Follicular</th>\n",
       "      <td>0.457823</td>\n",
       "    </tr>\n",
       "    <tr>\n",
       "      <th>Pathology_Hurthel cell</th>\n",
       "      <td>-0.513043</td>\n",
       "    </tr>\n",
       "    <tr>\n",
       "      <th>Pathology_Micropapillary</th>\n",
       "      <td>-0.345293</td>\n",
       "    </tr>\n",
       "    <tr>\n",
       "      <th>Pathology_Papillary</th>\n",
       "      <td>0.400596</td>\n",
       "    </tr>\n",
       "    <tr>\n",
       "      <th>T_T1a</th>\n",
       "      <td>-0.290829</td>\n",
       "    </tr>\n",
       "    <tr>\n",
       "      <th>T_T1b</th>\n",
       "      <td>0.308498</td>\n",
       "    </tr>\n",
       "    <tr>\n",
       "      <th>T_T2</th>\n",
       "      <td>-0.599906</td>\n",
       "    </tr>\n",
       "    <tr>\n",
       "      <th>T_T3a</th>\n",
       "      <td>-0.124332</td>\n",
       "    </tr>\n",
       "    <tr>\n",
       "      <th>T_T3b</th>\n",
       "      <td>0.439152</td>\n",
       "    </tr>\n",
       "    <tr>\n",
       "      <th>T_T4a</th>\n",
       "      <td>0.234019</td>\n",
       "    </tr>\n",
       "    <tr>\n",
       "      <th>T_T4b</th>\n",
       "      <td>0.033480</td>\n",
       "    </tr>\n",
       "    <tr>\n",
       "      <th>N_N0</th>\n",
       "      <td>-0.648052</td>\n",
       "    </tr>\n",
       "    <tr>\n",
       "      <th>N_N1a</th>\n",
       "      <td>-0.038689</td>\n",
       "    </tr>\n",
       "    <tr>\n",
       "      <th>N_N1b</th>\n",
       "      <td>0.686823</td>\n",
       "    </tr>\n",
       "    <tr>\n",
       "      <th>Response_Biochemical Incomplete</th>\n",
       "      <td>0.641693</td>\n",
       "    </tr>\n",
       "    <tr>\n",
       "      <th>Response_Excellent</th>\n",
       "      <td>-2.133068</td>\n",
       "    </tr>\n",
       "    <tr>\n",
       "      <th>Response_Indeterminate</th>\n",
       "      <td>-1.190182</td>\n",
       "    </tr>\n",
       "    <tr>\n",
       "      <th>Response_Structural Incomplete</th>\n",
       "      <td>2.681640</td>\n",
       "    </tr>\n",
       "    <tr>\n",
       "      <th>Stage_I</th>\n",
       "      <td>-0.738409</td>\n",
       "    </tr>\n",
       "    <tr>\n",
       "      <th>Stage_II</th>\n",
       "      <td>0.539531</td>\n",
       "    </tr>\n",
       "    <tr>\n",
       "      <th>Stage_III</th>\n",
       "      <td>0.005440</td>\n",
       "    </tr>\n",
       "    <tr>\n",
       "      <th>Stage_IVA</th>\n",
       "      <td>0.148591</td>\n",
       "    </tr>\n",
       "    <tr>\n",
       "      <th>Stage_IVB</th>\n",
       "      <td>0.044929</td>\n",
       "    </tr>\n",
       "  </tbody>\n",
       "</table>\n",
       "</div>"
      ],
      "text/plain": [
       "                                                         0\n",
       "Age                                               0.023890\n",
       "Gender                                            0.490160\n",
       "Smoking                                           0.195140\n",
       "Hx Smoking                                       -0.103139\n",
       "Hx Radiothreapy                                   0.021889\n",
       "Focality                                          0.438802\n",
       "Risk                                             -1.144221\n",
       "M                                                 0.088582\n",
       "Thyroid Function_Clinical Hyperthyroidism        -0.798493\n",
       "Thyroid Function_Clinical Hypothyroidism          0.607082\n",
       "Thyroid Function_Euthyroid                        0.563872\n",
       "Thyroid Function_Subclinical Hyperthyroidism     -0.020116\n",
       "Thyroid Function_Subclinical Hypothyroidism      -0.352262\n",
       "Physical Examination_Diffuse goiter              -0.020627\n",
       "Physical Examination_Multinodular goiter          0.059493\n",
       "Physical Examination_Normal                      -0.087957\n",
       "Physical Examination_Single nodular goiter-left   0.013021\n",
       "Physical Examination_Single nodular goiter-right  0.036153\n",
       "Adenopathy_Bilateral                             -0.230796\n",
       "Adenopathy_Extensive                              0.131088\n",
       "Adenopathy_Left                                  -0.085184\n",
       "Adenopathy_No                                     0.032540\n",
       "Adenopathy_Posterior                              0.002020\n",
       "Adenopathy_Right                                  0.150413\n",
       "Pathology_Follicular                              0.457823\n",
       "Pathology_Hurthel cell                           -0.513043\n",
       "Pathology_Micropapillary                         -0.345293\n",
       "Pathology_Papillary                               0.400596\n",
       "T_T1a                                            -0.290829\n",
       "T_T1b                                             0.308498\n",
       "T_T2                                             -0.599906\n",
       "T_T3a                                            -0.124332\n",
       "T_T3b                                             0.439152\n",
       "T_T4a                                             0.234019\n",
       "T_T4b                                             0.033480\n",
       "N_N0                                             -0.648052\n",
       "N_N1a                                            -0.038689\n",
       "N_N1b                                             0.686823\n",
       "Response_Biochemical Incomplete                   0.641693\n",
       "Response_Excellent                               -2.133068\n",
       "Response_Indeterminate                           -1.190182\n",
       "Response_Structural Incomplete                    2.681640\n",
       "Stage_I                                          -0.738409\n",
       "Stage_II                                          0.539531\n",
       "Stage_III                                         0.005440\n",
       "Stage_IVA                                         0.148591\n",
       "Stage_IVB                                         0.044929"
      ]
     },
     "execution_count": 47,
     "metadata": {},
     "output_type": "execute_result"
    }
   ],
   "source": [
    "pd.DataFrame(a, index=x_encoded.columns)"
   ]
  },
  {
   "cell_type": "code",
   "execution_count": 44,
   "id": "c4adb288",
   "metadata": {},
   "outputs": [
    {
     "data": {
      "image/png": "[encoded data removed]",
      "text/plain": [
       "<Figure size 640x480 with 1 Axes>"
      ]
     },
     "metadata": {},
     "output_type": "display_data"
    }
   ],
   "source": [
    "# Ploting ROC Curve\n",
    "# probalistic values\n",
    "y_pred_proba=LR.predict_proba(x_test)[:,1]\n",
    "\n",
    "#defining RUC Curve\n",
    "fpr, tpr,threshu=roc_curve(y_test, y_pred_proba)\n",
    "\n",
    "# area under the curve\n",
    "auc=roc_auc_score(y_test, y_pred_proba)\n",
    "\n",
    "# Creating ROC Curve\n",
    "\n",
    "plt.plot(fpr, tpr, label=\"AUC=\"+str(auc))\n",
    "plt.ylabel(\"TRUE POSITIVE RATE\")\n",
    "plt.xlabel(\"FALSE POSITIVE RATE\")\n",
    "plt.legend(loc=4)\n",
    "plt.show()"
   ]
  },
  {
   "cell_type": "code",
   "execution_count": null,
   "id": "6ea56a39",
   "metadata": {},
   "outputs": [],
   "source": []
  }
 ],
 "metadata": {
  "kernelspec": {
   "display_name": "Python 3 (ipykernel)",
   "language": "python",
   "name": "python3"
  },
  "language_info": {
   "codemirror_mode": {
    "name": "ipython",
    "version": 3
   },
   "file_extension": ".py",
   "mimetype": "text/x-python",
   "name": "python",
   "nbconvert_exporter": "python",
   "pygments_lexer": "ipython3",
   "version": "3.10.9"
  }
 },
 "nbformat": 4,
 "nbformat_minor": 5
}
